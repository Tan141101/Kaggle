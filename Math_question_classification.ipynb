{
 "cells": [
  {
   "cell_type": "code",
   "execution_count": 1,
   "id": "a1ce6794",
   "metadata": {},
   "outputs": [],
   "source": [
    "import pandas as pd\n",
    "import numpy as np"
   ]
  },
  {
   "cell_type": "code",
   "execution_count": 2,
   "id": "2a16a9ad",
   "metadata": {},
   "outputs": [],
   "source": [
    "import nltk\n",
    "from nltk.corpus import stopwords\n",
    "from nltk import word_tokenize,FreqDist\n",
    "import string"
   ]
  },
  {
   "cell_type": "code",
   "execution_count": 3,
   "id": "719dc660",
   "metadata": {},
   "outputs": [],
   "source": [
    "from nltk.stem import PorterStemmer"
   ]
  },
  {
   "cell_type": "code",
   "execution_count": 4,
   "id": "8e166598",
   "metadata": {},
   "outputs": [],
   "source": [
    "from sklearn.model_selection import train_test_split\n",
    "from sklearn.feature_extraction.text import TfidfVectorizer, CountVectorizer\n",
    "from sklearn.naive_bayes import MultinomialNB\n",
    "from sklearn.ensemble import RandomForestClassifier\n",
    "from sklearn.tree import DecisionTreeClassifier\n",
    "from sklearn.neighbors import KNeighborsClassifier\n",
    "from sklearn.ensemble import GradientBoostingClassifier\n",
    "from xgboost import XGBClassifier\n",
    "\n",
    "from sklearn.metrics import classification_report, accuracy_score, confusion_matrix, recall_score\n",
    "from sklearn.metrics import plot_confusion_matrix"
   ]
  },
  {
   "cell_type": "code",
   "execution_count": 5,
   "id": "b69a234e",
   "metadata": {},
   "outputs": [],
   "source": [
    "from sklearn.pipeline import Pipeline"
   ]
  },
  {
   "cell_type": "code",
   "execution_count": 6,
   "id": "bdad6b74",
   "metadata": {},
   "outputs": [],
   "source": [
    "from sklearn.model_selection import train_test_split, GridSearchCV, cross_val_score"
   ]
  },
  {
   "cell_type": "code",
   "execution_count": 7,
   "id": "ddae788c",
   "metadata": {},
   "outputs": [],
   "source": [
    "import fasttext"
   ]
  },
  {
   "cell_type": "code",
   "execution_count": 8,
   "id": "ae89e07c",
   "metadata": {},
   "outputs": [],
   "source": [
    "import csv"
   ]
  },
  {
   "cell_type": "code",
   "execution_count": 9,
   "id": "d965e575",
   "metadata": {},
   "outputs": [],
   "source": [
    "from bs4 import BeautifulSoup"
   ]
  },
  {
   "cell_type": "code",
   "execution_count": 11,
   "id": "44d3e344",
   "metadata": {},
   "outputs": [
    {
     "name": "stdout",
     "output_type": "stream",
     "text": [
      "This is HTML text with   tags.\n"
     ]
    }
   ],
   "source": [
    "def remove_html_tags(text):\n",
    "    soup = BeautifulSoup(text, 'html.parser')\n",
    "    cleaned_text = soup.get_text()\n",
    "    cleaned_text = cleaned_text.replace('\\n',' ')\n",
    "    return cleaned_text\n",
    "\n",
    "# Example usage\n",
    "html_text = \"<p>This is <b>HTML</b> text with \\n <a href='example.com'>tags</a>.</p>\"\n",
    "cleaned_text = remove_html_tags(html_text)\n",
    "print(cleaned_text)"
   ]
  },
  {
   "cell_type": "code",
   "execution_count": 12,
   "id": "0b41447b",
   "metadata": {},
   "outputs": [],
   "source": [
    "df = pd.read_csv(r\"C:\\Users\\tanma\\Downloads\\train.csv\")"
   ]
  },
  {
   "cell_type": "code",
   "execution_count": 13,
   "id": "bc897872",
   "metadata": {},
   "outputs": [
    {
     "data": {
      "text/html": [
       "<div>\n",
       "<style scoped>\n",
       "    .dataframe tbody tr th:only-of-type {\n",
       "        vertical-align: middle;\n",
       "    }\n",
       "\n",
       "    .dataframe tbody tr th {\n",
       "        vertical-align: top;\n",
       "    }\n",
       "\n",
       "    .dataframe thead th {\n",
       "        text-align: right;\n",
       "    }\n",
       "</style>\n",
       "<table border=\"1\" class=\"dataframe\">\n",
       "  <thead>\n",
       "    <tr style=\"text-align: right;\">\n",
       "      <th></th>\n",
       "      <th>problem</th>\n",
       "      <th>category</th>\n",
       "    </tr>\n",
       "  </thead>\n",
       "  <tbody>\n",
       "    <tr>\n",
       "      <th>0</th>\n",
       "      <td>&lt;p&gt;For graduating from middle school,  Wayne r...</td>\n",
       "      <td>NaN</td>\n",
       "    </tr>\n",
       "    <tr>\n",
       "      <th>1</th>\n",
       "      <td>&lt;p&gt;Mrs. O'Hare bought `18` packs of pencils to...</td>\n",
       "      <td>NaN</td>\n",
       "    </tr>\n",
       "    <tr>\n",
       "      <th>2</th>\n",
       "      <td>&lt;p&gt;Annalise bought `p` pens last week and `15`...</td>\n",
       "      <td>NaN</td>\n",
       "    </tr>\n",
       "    <tr>\n",
       "      <th>3</th>\n",
       "      <td>&lt;p&gt;Felicia is decorating cupcakes for a party....</td>\n",
       "      <td>NaN</td>\n",
       "    </tr>\n",
       "    <tr>\n",
       "      <th>4</th>\n",
       "      <td>&lt;p&gt;Write an expression to match the phrase:&lt;/p...</td>\n",
       "      <td>NaN</td>\n",
       "    </tr>\n",
       "    <tr>\n",
       "      <th>...</th>\n",
       "      <td>...</td>\n",
       "      <td>...</td>\n",
       "    </tr>\n",
       "    <tr>\n",
       "      <th>120</th>\n",
       "      <td>&lt;p&gt;Veronica has `d` more dresses than Larisa d...</td>\n",
       "      <td>NaN</td>\n",
       "    </tr>\n",
       "    <tr>\n",
       "      <th>121</th>\n",
       "      <td>&lt;p&gt;Write an equation to match the phrase:&lt;/p&gt;&lt;...</td>\n",
       "      <td>NaN</td>\n",
       "    </tr>\n",
       "    <tr>\n",
       "      <th>122</th>\n",
       "      <td>&lt;p&gt;Follow the directions below to create an eq...</td>\n",
       "      <td>NaN</td>\n",
       "    </tr>\n",
       "    <tr>\n",
       "      <th>123</th>\n",
       "      <td>&lt;p&gt;What is `7.5 ÷ 10`?&lt;/p&gt;&lt;selectivedisplay da...</td>\n",
       "      <td>NaN</td>\n",
       "    </tr>\n",
       "    <tr>\n",
       "      <th>124</th>\n",
       "      <td>&lt;p&gt;Write an expression to match the phrase:&lt;br...</td>\n",
       "      <td>NaN</td>\n",
       "    </tr>\n",
       "  </tbody>\n",
       "</table>\n",
       "<p>125 rows × 2 columns</p>\n",
       "</div>"
      ],
      "text/plain": [
       "                                               problem  category\n",
       "0    <p>For graduating from middle school,  Wayne r...       NaN\n",
       "1    <p>Mrs. O'Hare bought `18` packs of pencils to...       NaN\n",
       "2    <p>Annalise bought `p` pens last week and `15`...       NaN\n",
       "3    <p>Felicia is decorating cupcakes for a party....       NaN\n",
       "4    <p>Write an expression to match the phrase:</p...       NaN\n",
       "..                                                 ...       ...\n",
       "120  <p>Veronica has `d` more dresses than Larisa d...       NaN\n",
       "121  <p>Write an equation to match the phrase:</p><...       NaN\n",
       "122  <p>Follow the directions below to create an eq...       NaN\n",
       "123  <p>What is `7.5 ÷ 10`?</p><selectivedisplay da...       NaN\n",
       "124  <p>Write an expression to match the phrase:<br...       NaN\n",
       "\n",
       "[125 rows x 2 columns]"
      ]
     },
     "execution_count": 13,
     "metadata": {},
     "output_type": "execute_result"
    }
   ],
   "source": [
    "df_test = pd.read_csv(r\"C:\\Users\\tanma\\Downloads\\test.csv\")\n",
    "df_test"
   ]
  },
  {
   "cell_type": "code",
   "execution_count": 70,
   "id": "f72caf2b",
   "metadata": {},
   "outputs": [
    {
     "data": {
      "text/html": [
       "<div>\n",
       "<style scoped>\n",
       "    .dataframe tbody tr th:only-of-type {\n",
       "        vertical-align: middle;\n",
       "    }\n",
       "\n",
       "    .dataframe tbody tr th {\n",
       "        vertical-align: top;\n",
       "    }\n",
       "\n",
       "    .dataframe thead th {\n",
       "        text-align: right;\n",
       "    }\n",
       "</style>\n",
       "<table border=\"1\" class=\"dataframe\">\n",
       "  <thead>\n",
       "    <tr style=\"text-align: right;\">\n",
       "      <th></th>\n",
       "      <th>problem</th>\n",
       "    </tr>\n",
       "  </thead>\n",
       "  <tbody>\n",
       "    <tr>\n",
       "      <th>0</th>\n",
       "      <td>At a ring toss game at a carnival, Marco throw...</td>\n",
       "    </tr>\n",
       "    <tr>\n",
       "      <th>1</th>\n",
       "      <td>What is `471 ÷ 100`? Interactive: Students fol...</td>\n",
       "    </tr>\n",
       "    <tr>\n",
       "      <th>2</th>\n",
       "      <td>Follow the directions below to create an equiv...</td>\n",
       "    </tr>\n",
       "    <tr>\n",
       "      <th>3</th>\n",
       "      <td>Solve the following system by substitution:\\n`...</td>\n",
       "    </tr>\n",
       "    <tr>\n",
       "      <th>4</th>\n",
       "      <td>Solve the following system by substitution:\\n`...</td>\n",
       "    </tr>\n",
       "    <tr>\n",
       "      <th>...</th>\n",
       "      <td>...</td>\n",
       "    </tr>\n",
       "    <tr>\n",
       "      <th>245</th>\n",
       "      <td>Write an expression to match the phrase:\"`9` p...</td>\n",
       "    </tr>\n",
       "    <tr>\n",
       "      <th>246</th>\n",
       "      <td>Identify the terms, coefficients, variables, a...</td>\n",
       "    </tr>\n",
       "    <tr>\n",
       "      <th>247</th>\n",
       "      <td>Solve the following system by elimination:\\n`-...</td>\n",
       "    </tr>\n",
       "    <tr>\n",
       "      <th>248</th>\n",
       "      <td>Write an expression to match the phrase:\"`8` t...</td>\n",
       "    </tr>\n",
       "    <tr>\n",
       "      <th>249</th>\n",
       "      <td>The first time Sue made enchiladas, she used `...</td>\n",
       "    </tr>\n",
       "  </tbody>\n",
       "</table>\n",
       "<p>250 rows × 1 columns</p>\n",
       "</div>"
      ],
      "text/plain": [
       "                                               problem\n",
       "0    At a ring toss game at a carnival, Marco throw...\n",
       "1    What is `471 ÷ 100`? Interactive: Students fol...\n",
       "2    Follow the directions below to create an equiv...\n",
       "3    Solve the following system by substitution:\\n`...\n",
       "4    Solve the following system by substitution:\\n`...\n",
       "..                                                 ...\n",
       "245  Write an expression to match the phrase:\"`9` p...\n",
       "246  Identify the terms, coefficients, variables, a...\n",
       "247  Solve the following system by elimination:\\n`-...\n",
       "248  Write an expression to match the phrase:\"`8` t...\n",
       "249  The first time Sue made enchiladas, she used `...\n",
       "\n",
       "[250 rows x 1 columns]"
      ]
     },
     "execution_count": 70,
     "metadata": {},
     "output_type": "execute_result"
    }
   ],
   "source": [
    "df_imp"
   ]
  },
  {
   "cell_type": "code",
   "execution_count": 14,
   "id": "982dcea8",
   "metadata": {},
   "outputs": [],
   "source": [
    "stops = stopwords.words(\"english\") + list(string.punctuation)"
   ]
  },
  {
   "cell_type": "code",
   "execution_count": 16,
   "id": "48a5f18a",
   "metadata": {},
   "outputs": [
    {
     "data": {
      "text/plain": [
       "['i',\n",
       " 'me',\n",
       " 'my',\n",
       " 'myself',\n",
       " 'we',\n",
       " 'our',\n",
       " 'ours',\n",
       " 'ourselves',\n",
       " 'you',\n",
       " \"you're\",\n",
       " \"you've\",\n",
       " \"you'll\",\n",
       " \"you'd\",\n",
       " 'your',\n",
       " 'yours',\n",
       " 'yourself',\n",
       " 'yourselves',\n",
       " 'he',\n",
       " 'him',\n",
       " 'his',\n",
       " 'himself',\n",
       " 'she',\n",
       " \"she's\",\n",
       " 'her',\n",
       " 'hers',\n",
       " 'herself',\n",
       " 'it',\n",
       " \"it's\",\n",
       " 'its',\n",
       " 'itself',\n",
       " 'they',\n",
       " 'them',\n",
       " 'their',\n",
       " 'theirs',\n",
       " 'themselves',\n",
       " 'what',\n",
       " 'which',\n",
       " 'who',\n",
       " 'whom',\n",
       " 'this',\n",
       " 'that',\n",
       " \"that'll\",\n",
       " 'these',\n",
       " 'those',\n",
       " 'am',\n",
       " 'is',\n",
       " 'are',\n",
       " 'was',\n",
       " 'were',\n",
       " 'be',\n",
       " 'been',\n",
       " 'being',\n",
       " 'have',\n",
       " 'has',\n",
       " 'had',\n",
       " 'having',\n",
       " 'do',\n",
       " 'does',\n",
       " 'did',\n",
       " 'doing',\n",
       " 'a',\n",
       " 'an',\n",
       " 'the',\n",
       " 'and',\n",
       " 'but',\n",
       " 'if',\n",
       " 'or',\n",
       " 'because',\n",
       " 'as',\n",
       " 'until',\n",
       " 'while',\n",
       " 'of',\n",
       " 'at',\n",
       " 'by',\n",
       " 'for',\n",
       " 'with',\n",
       " 'about',\n",
       " 'against',\n",
       " 'between',\n",
       " 'into',\n",
       " 'through',\n",
       " 'during',\n",
       " 'before',\n",
       " 'after',\n",
       " 'above',\n",
       " 'below',\n",
       " 'to',\n",
       " 'from',\n",
       " 'up',\n",
       " 'down',\n",
       " 'in',\n",
       " 'out',\n",
       " 'on',\n",
       " 'off',\n",
       " 'over',\n",
       " 'under',\n",
       " 'again',\n",
       " 'further',\n",
       " 'then',\n",
       " 'once',\n",
       " 'here',\n",
       " 'there',\n",
       " 'when',\n",
       " 'where',\n",
       " 'why',\n",
       " 'how',\n",
       " 'all',\n",
       " 'any',\n",
       " 'both',\n",
       " 'each',\n",
       " 'few',\n",
       " 'more',\n",
       " 'most',\n",
       " 'other',\n",
       " 'some',\n",
       " 'such',\n",
       " 'no',\n",
       " 'nor',\n",
       " 'not',\n",
       " 'only',\n",
       " 'own',\n",
       " 'same',\n",
       " 'so',\n",
       " 'than',\n",
       " 'too',\n",
       " 'very',\n",
       " 's',\n",
       " 't',\n",
       " 'can',\n",
       " 'will',\n",
       " 'just',\n",
       " 'don',\n",
       " \"don't\",\n",
       " 'should',\n",
       " \"should've\",\n",
       " 'now',\n",
       " 'd',\n",
       " 'll',\n",
       " 'm',\n",
       " 'o',\n",
       " 're',\n",
       " 've',\n",
       " 'y',\n",
       " 'ain',\n",
       " 'aren',\n",
       " \"aren't\",\n",
       " 'couldn',\n",
       " \"couldn't\",\n",
       " 'didn',\n",
       " \"didn't\",\n",
       " 'doesn',\n",
       " \"doesn't\",\n",
       " 'hadn',\n",
       " \"hadn't\",\n",
       " 'hasn',\n",
       " \"hasn't\",\n",
       " 'haven',\n",
       " \"haven't\",\n",
       " 'isn',\n",
       " \"isn't\",\n",
       " 'ma',\n",
       " 'mightn',\n",
       " \"mightn't\",\n",
       " 'mustn',\n",
       " \"mustn't\",\n",
       " 'needn',\n",
       " \"needn't\",\n",
       " 'shan',\n",
       " \"shan't\",\n",
       " 'shouldn',\n",
       " \"shouldn't\",\n",
       " 'wasn',\n",
       " \"wasn't\",\n",
       " 'weren',\n",
       " \"weren't\",\n",
       " 'won',\n",
       " \"won't\",\n",
       " 'wouldn',\n",
       " \"wouldn't\",\n",
       " '!',\n",
       " '\"',\n",
       " '#',\n",
       " '$',\n",
       " '%',\n",
       " '&',\n",
       " \"'\",\n",
       " '(',\n",
       " ')',\n",
       " '*',\n",
       " '+',\n",
       " ',',\n",
       " '-',\n",
       " '.',\n",
       " '/',\n",
       " ':',\n",
       " ';',\n",
       " '<',\n",
       " '=',\n",
       " '>',\n",
       " '?',\n",
       " '@',\n",
       " '[',\n",
       " '\\\\',\n",
       " ']',\n",
       " '^',\n",
       " '_',\n",
       " '`',\n",
       " '{',\n",
       " '|',\n",
       " '}',\n",
       " '~']"
      ]
     },
     "execution_count": 16,
     "metadata": {},
     "output_type": "execute_result"
    }
   ],
   "source": [
    "stops"
   ]
  },
  {
   "cell_type": "code",
   "execution_count": 10,
   "id": "c677cdb1",
   "metadata": {},
   "outputs": [],
   "source": [
    "# These stopwords would work as we do not have to remove expression x+y = 10 because that is important for our task"
   ]
  },
  {
   "cell_type": "code",
   "execution_count": 54,
   "id": "e77207bd",
   "metadata": {},
   "outputs": [],
   "source": [
    "def process_questions(text):\n",
    "    tokens = word_tokenize(text)\n",
    "    up_tokens = [i.lower() for i in tokens if i.lower() not in stops]\n",
    "    p = PorterStemmer()\n",
    "    last = []\n",
    "    for token in up_tokens:\n",
    "        last.append(p.stem(token))\n",
    "    return up_tokens"
   ]
  },
  {
   "cell_type": "code",
   "execution_count": 72,
   "id": "9dc8b471",
   "metadata": {},
   "outputs": [
    {
     "name": "stderr",
     "output_type": "stream",
     "text": [
      "C:\\Users\\tanma\\AppData\\Local\\Temp\\ipykernel_36988\\119967411.py:6: SettingWithCopyWarning: \n",
      "A value is trying to be set on a copy of a slice from a DataFrame\n",
      "\n",
      "See the caveats in the documentation: https://pandas.pydata.org/pandas-docs/stable/user_guide/indexing.html#returning-a-view-versus-a-copy\n",
      "  df_imp['problem'].loc[i] = s\n"
     ]
    }
   ],
   "source": [
    "s = \"\"\n",
    "for i in range(len(df_imp['problem'])):\n",
    "    s = \"\"\n",
    "    for word in df_imp['problem'].loc[i]:\n",
    "        s+=word + \" \"\n",
    "    df_imp['problem'].loc[i] = s"
   ]
  },
  {
   "cell_type": "code",
   "execution_count": 73,
   "id": "e084b8a3",
   "metadata": {},
   "outputs": [],
   "source": [
    "x = df_imp['problem']\n",
    "y = df['category']\n",
    "X_train, X_test, y_train, y_test = train_test_split(x, y, test_size=0.20, random_state=200)"
   ]
  },
  {
   "cell_type": "code",
   "execution_count": 74,
   "id": "99c5387e",
   "metadata": {},
   "outputs": [
    {
     "data": {
      "text/plain": [
       "109    identify terms coefficients variables constant...\n",
       "242    juan li cyclist 's competing race juan covered...\n",
       "233         solve following system substitution x 15 4x \n",
       "101    beekeeper ships box containing 30 containers h...\n",
       "66     cynthia finished 15 math problems homework ton...\n",
       "                             ...                        \n",
       "42     determine number solutions following system eq...\n",
       "68     determine number solutions following system eq...\n",
       "16                     solve system equations x 5 -2x 2 \n",
       "105       write expression match phrase '' q times 2 `` \n",
       "26         solve following system substitution 5x 7x 16 \n",
       "Name: problem, Length: 200, dtype: object"
      ]
     },
     "execution_count": 74,
     "metadata": {},
     "output_type": "execute_result"
    }
   ],
   "source": [
    "X_train"
   ]
  },
  {
   "cell_type": "code",
   "execution_count": 76,
   "id": "a5166273",
   "metadata": {},
   "outputs": [],
   "source": [
    "vectorizer = TfidfVectorizer(ngram_range=(1,2), max_features=10000)\n",
    "vect_X_train = vectorizer.fit_transform(X_train)\n",
    "feature_names =  vectorizer.get_feature_names_out()"
   ]
  },
  {
   "cell_type": "code",
   "execution_count": 77,
   "id": "8af4b372",
   "metadata": {},
   "outputs": [
    {
     "data": {
      "text/plain": [
       "2354"
      ]
     },
     "execution_count": 77,
     "metadata": {},
     "output_type": "execute_result"
    }
   ],
   "source": [
    "len(feature_names)"
   ]
  },
  {
   "cell_type": "code",
   "execution_count": 78,
   "id": "4daf16c5",
   "metadata": {},
   "outputs": [],
   "source": [
    "vect_X_test = vectorizer.transform(X_test)"
   ]
  },
  {
   "cell_type": "code",
   "execution_count": 79,
   "id": "9ca63fe6",
   "metadata": {},
   "outputs": [
    {
     "data": {
      "text/plain": [
       "MultinomialNB()"
      ]
     },
     "execution_count": 79,
     "metadata": {},
     "output_type": "execute_result"
    }
   ],
   "source": [
    "cls = MultinomialNB()\n",
    "cls.fit(vect_X_train, y_train)"
   ]
  },
  {
   "cell_type": "code",
   "execution_count": 80,
   "id": "d7c7d848",
   "metadata": {},
   "outputs": [],
   "source": [
    "y_pred = cls.predict(vect_X_train)"
   ]
  },
  {
   "cell_type": "code",
   "execution_count": 81,
   "id": "875ba250",
   "metadata": {},
   "outputs": [
    {
     "data": {
      "text/plain": [
       "array([ 0,  1,  3,  4,  5,  6,  7,  8,  9, 10, 11, 12, 14, 15, 16, 17, 19,\n",
       "       20, 21, 22, 23, 24], dtype=int64)"
      ]
     },
     "execution_count": 81,
     "metadata": {},
     "output_type": "execute_result"
    }
   ],
   "source": [
    "np.unique(y_pred)"
   ]
  },
  {
   "cell_type": "code",
   "execution_count": 82,
   "id": "c124b6c1",
   "metadata": {},
   "outputs": [
    {
     "data": {
      "text/plain": [
       "88.5"
      ]
     },
     "execution_count": 82,
     "metadata": {},
     "output_type": "execute_result"
    }
   ],
   "source": [
    "accuracy_score(y_train, y_pred)*100"
   ]
  },
  {
   "cell_type": "code",
   "execution_count": 83,
   "id": "391dcaa7",
   "metadata": {},
   "outputs": [],
   "source": [
    "test_y_pred = cls.predict(vect_X_test)"
   ]
  },
  {
   "cell_type": "code",
   "execution_count": 84,
   "id": "dc868639",
   "metadata": {},
   "outputs": [
    {
     "data": {
      "text/plain": [
       "42.0"
      ]
     },
     "execution_count": 84,
     "metadata": {},
     "output_type": "execute_result"
    }
   ],
   "source": [
    "accuracy_score(y_test, test_y_pred)*100"
   ]
  },
  {
   "cell_type": "code",
   "execution_count": 85,
   "id": "7d59e67e",
   "metadata": {},
   "outputs": [
    {
     "data": {
      "text/plain": [
       "RandomForestClassifier(max_depth=20)"
      ]
     },
     "execution_count": 85,
     "metadata": {},
     "output_type": "execute_result"
    }
   ],
   "source": [
    "rdmfst = RandomForestClassifier(max_depth=20)\n",
    "rdmfst.fit(vect_X_train, y_train)"
   ]
  },
  {
   "cell_type": "code",
   "execution_count": 86,
   "id": "1f36f7f3",
   "metadata": {},
   "outputs": [],
   "source": [
    "y_pred = rdmfst.predict(vect_X_train)"
   ]
  },
  {
   "cell_type": "code",
   "execution_count": 87,
   "id": "cb2506a2",
   "metadata": {},
   "outputs": [
    {
     "data": {
      "text/plain": [
       "98.0"
      ]
     },
     "execution_count": 87,
     "metadata": {},
     "output_type": "execute_result"
    }
   ],
   "source": [
    "accuracy_score(y_train, y_pred)*100"
   ]
  },
  {
   "cell_type": "code",
   "execution_count": 88,
   "id": "08648cb4",
   "metadata": {},
   "outputs": [],
   "source": [
    "test_y_pred = rdmfst.predict(vect_X_test)"
   ]
  },
  {
   "cell_type": "code",
   "execution_count": 89,
   "id": "df256d7e",
   "metadata": {},
   "outputs": [
    {
     "data": {
      "text/plain": [
       "54.0"
      ]
     },
     "execution_count": 89,
     "metadata": {},
     "output_type": "execute_result"
    }
   ],
   "source": [
    "accuracy_score(y_test, test_y_pred)*100"
   ]
  },
  {
   "cell_type": "code",
   "execution_count": 90,
   "id": "c3fac4b3",
   "metadata": {},
   "outputs": [
    {
     "data": {
      "text/plain": [
       "DecisionTreeClassifier(max_depth=20)"
      ]
     },
     "execution_count": 90,
     "metadata": {},
     "output_type": "execute_result"
    }
   ],
   "source": [
    "dtree = DecisionTreeClassifier(max_depth=20)\n",
    "dtree.fit(vect_X_train, y_train)"
   ]
  },
  {
   "cell_type": "code",
   "execution_count": 91,
   "id": "f6131706",
   "metadata": {},
   "outputs": [],
   "source": [
    "y_pred = dtree.predict(vect_X_train)"
   ]
  },
  {
   "cell_type": "code",
   "execution_count": 92,
   "id": "c59cdefd",
   "metadata": {},
   "outputs": [
    {
     "data": {
      "text/plain": [
       "93.0"
      ]
     },
     "execution_count": 92,
     "metadata": {},
     "output_type": "execute_result"
    }
   ],
   "source": [
    "accuracy_score(y_train, y_pred)*100"
   ]
  },
  {
   "cell_type": "code",
   "execution_count": 93,
   "id": "a3fa1067",
   "metadata": {},
   "outputs": [
    {
     "data": {
      "text/plain": [
       "57.99999999999999"
      ]
     },
     "execution_count": 93,
     "metadata": {},
     "output_type": "execute_result"
    }
   ],
   "source": [
    "test_y_pred = dtree.predict(vect_X_test)\n",
    "accuracy_score(y_test, test_y_pred)*100"
   ]
  },
  {
   "cell_type": "code",
   "execution_count": 94,
   "id": "6038ab0a",
   "metadata": {},
   "outputs": [
    {
     "data": {
      "text/plain": [
       "KNeighborsClassifier(weights='distance')"
      ]
     },
     "execution_count": 94,
     "metadata": {},
     "output_type": "execute_result"
    }
   ],
   "source": [
    "neigh = KNeighborsClassifier(n_neighbors=5, weights='distance')\n",
    "neigh.fit(vect_X_train, y_train)"
   ]
  },
  {
   "cell_type": "code",
   "execution_count": 96,
   "id": "c8591844",
   "metadata": {},
   "outputs": [],
   "source": [
    "y_pred = neigh.predict(vect_X_train)"
   ]
  },
  {
   "cell_type": "code",
   "execution_count": 97,
   "id": "af2c448f",
   "metadata": {},
   "outputs": [
    {
     "data": {
      "text/plain": [
       "98.0"
      ]
     },
     "execution_count": 97,
     "metadata": {},
     "output_type": "execute_result"
    }
   ],
   "source": [
    "accuracy_score(y_train, y_pred)*100"
   ]
  },
  {
   "cell_type": "code",
   "execution_count": 98,
   "id": "ad0e6ee9",
   "metadata": {},
   "outputs": [],
   "source": [
    "test_y_pred = neigh.predict(vect_X_test)"
   ]
  },
  {
   "cell_type": "code",
   "execution_count": 99,
   "id": "35045da9",
   "metadata": {},
   "outputs": [
    {
     "data": {
      "text/plain": [
       "52.0"
      ]
     },
     "execution_count": 99,
     "metadata": {},
     "output_type": "execute_result"
    }
   ],
   "source": [
    "accuracy_score(y_test, test_y_pred)*100"
   ]
  },
  {
   "cell_type": "code",
   "execution_count": 100,
   "id": "f285993f",
   "metadata": {},
   "outputs": [
    {
     "data": {
      "text/plain": [
       "GradientBoostingClassifier()"
      ]
     },
     "execution_count": 100,
     "metadata": {},
     "output_type": "execute_result"
    }
   ],
   "source": [
    "gboost = GradientBoostingClassifier(max_depth=3)\n",
    "gboost.fit(vect_X_train, y_train)"
   ]
  },
  {
   "cell_type": "code",
   "execution_count": 101,
   "id": "56814043",
   "metadata": {},
   "outputs": [
    {
     "data": {
      "text/plain": [
       "'The accuracy score is: 98.0%'"
      ]
     },
     "execution_count": 101,
     "metadata": {},
     "output_type": "execute_result"
    }
   ],
   "source": [
    "y_pred = gboost.predict(vect_X_train)\n",
    "f'The accuracy score is: {round(accuracy_score(y_train, y_pred)*100, 2)}%'"
   ]
  },
  {
   "cell_type": "code",
   "execution_count": 102,
   "id": "bb004d00",
   "metadata": {},
   "outputs": [],
   "source": [
    "test_y_pred = gboost.predict(vect_X_test)"
   ]
  },
  {
   "cell_type": "code",
   "execution_count": 103,
   "id": "5de9ac3e",
   "metadata": {},
   "outputs": [
    {
     "data": {
      "text/plain": [
       "'The accuracy score is: 66.0%'"
      ]
     },
     "execution_count": 103,
     "metadata": {},
     "output_type": "execute_result"
    }
   ],
   "source": [
    "f'The accuracy score is: {round(accuracy_score(y_test, test_y_pred)*100, 2)}%'"
   ]
  },
  {
   "cell_type": "code",
   "execution_count": 104,
   "id": "22a2519a",
   "metadata": {},
   "outputs": [],
   "source": [
    "xgb = XGBClassifier()"
   ]
  },
  {
   "cell_type": "code",
   "execution_count": 105,
   "id": "ae233375",
   "metadata": {},
   "outputs": [
    {
     "data": {
      "text/plain": [
       "XGBClassifier(base_score=None, booster=None, callbacks=None,\n",
       "              colsample_bylevel=None, colsample_bynode=None,\n",
       "              colsample_bytree=None, early_stopping_rounds=None,\n",
       "              enable_categorical=False, eval_metric=None, feature_types=None,\n",
       "              gamma=None, gpu_id=None, grow_policy=None, importance_type=None,\n",
       "              interaction_constraints=None, learning_rate=None, max_bin=None,\n",
       "              max_cat_threshold=None, max_cat_to_onehot=None,\n",
       "              max_delta_step=None, max_depth=None, max_leaves=None,\n",
       "              min_child_weight=None, missing=nan, monotone_constraints=None,\n",
       "              n_estimators=100, n_jobs=None, num_parallel_tree=None,\n",
       "              objective='multi:softprob', predictor=None, ...)"
      ]
     },
     "execution_count": 105,
     "metadata": {},
     "output_type": "execute_result"
    }
   ],
   "source": [
    "xgb.fit(vect_X_train, y_train)"
   ]
  },
  {
   "cell_type": "code",
   "execution_count": 106,
   "id": "8efbcc2c",
   "metadata": {},
   "outputs": [
    {
     "data": {
      "text/plain": [
       "'The accuracy score is: 97.5%'"
      ]
     },
     "execution_count": 106,
     "metadata": {},
     "output_type": "execute_result"
    }
   ],
   "source": [
    "y_pred = xgb.predict(vect_X_train)\n",
    "f'The accuracy score is: {round(accuracy_score(y_train, y_pred)*100, 2)}%'"
   ]
  },
  {
   "cell_type": "code",
   "execution_count": 107,
   "id": "ddd9e1b3",
   "metadata": {},
   "outputs": [
    {
     "data": {
      "text/plain": [
       "'The accuracy score is: 46.0%'"
      ]
     },
     "execution_count": 107,
     "metadata": {},
     "output_type": "execute_result"
    }
   ],
   "source": [
    "test_y_pred = xgb.predict(vect_X_test)\n",
    "f'The accuracy score is: {round(accuracy_score(y_test, test_y_pred)*100, 2)}%'"
   ]
  },
  {
   "cell_type": "code",
   "execution_count": 14,
   "id": "e8ffa471",
   "metadata": {},
   "outputs": [
    {
     "name": "stderr",
     "output_type": "stream",
     "text": [
      "C:\\Users\\tanma\\anaconda3\\lib\\site-packages\\bs4\\__init__.py:435: MarkupResemblesLocatorWarning: The input looks more like a filename than markup. You may want to open this file and pass the filehandle into Beautiful Soup.\n",
      "  warnings.warn(\n"
     ]
    }
   ],
   "source": [
    "# Completely new approach using fasttext\n",
    "csv_file = r'C:\\Users\\tanma\\Downloads\\train.csv'\n",
    "\n",
    "with open(csv_file, 'r', encoding='utf-8') as file:\n",
    "    reader = csv.reader(file)\n",
    "    data = list(reader)\n",
    "\n",
    "fasttext_data = []\n",
    "for row in data:\n",
    "    text = row[0]\n",
    "    text = remove_html_tags(text)\n",
    "    label = row[1]\n",
    "    fasttext_data.append(\"__label__{} {}\".format(label, text))\n",
    "    \n",
    "text_file = 'train.txt'\n",
    "with open(text_file, 'w', encoding='utf-8') as file:\n",
    "    file.write('\\n'.join(fasttext_data))\n"
   ]
  },
  {
   "cell_type": "code",
   "execution_count": 97,
   "id": "a26e44d2",
   "metadata": {},
   "outputs": [],
   "source": [
    "import random"
   ]
  },
  {
   "cell_type": "code",
   "execution_count": 48,
   "id": "9cde89cb",
   "metadata": {},
   "outputs": [],
   "source": [
    "model1 = fasttext.train_supervised(input=text_file, lr=0.5, epoch=100, wordNgrams=3,loss = 'softmax',bucket = 200000)"
   ]
  },
  {
   "cell_type": "code",
   "execution_count": 53,
   "id": "16d2b36f",
   "metadata": {},
   "outputs": [],
   "source": [
    "model2 = fasttext.train_supervised(input=text_file, lr=0.3, epoch=200, wordNgrams=1,loss = 'softmax',bucket = 200000)"
   ]
  },
  {
   "cell_type": "code",
   "execution_count": 60,
   "id": "dfdfc70d",
   "metadata": {},
   "outputs": [],
   "source": [
    "model3 = fasttext.train_supervised(input=text_file, lr=0.7, epoch=100, wordNgrams=3,loss = 'ova',bucket = 200000)"
   ]
  },
  {
   "cell_type": "code",
   "execution_count": 70,
   "id": "7875cbf8",
   "metadata": {},
   "outputs": [],
   "source": [
    "model4 = fasttext.train_supervised(input=text_file, lr=0.2, epoch=500, wordNgrams=1,loss = 'ova',bucket = 200000)"
   ]
  },
  {
   "cell_type": "code",
   "execution_count": 71,
   "id": "76839d81",
   "metadata": {},
   "outputs": [
    {
     "data": {
      "text/plain": [
       "(('__label__16',), array([0.99814242]))"
      ]
     },
     "execution_count": 71,
     "metadata": {},
     "output_type": "execute_result"
    }
   ],
   "source": [
    "model4.predict(\"<p>Pins Bowling Alley charges `$3.50` per game and `$4` to rent shoes. Strike Bowling Alley charges `$4` per game and `$2.50` to rent shoes. </p><p>Write two equations in slope-intercept form to represent the cost\")"
   ]
  },
  {
   "cell_type": "code",
   "execution_count": 72,
   "id": "1626bdb6",
   "metadata": {},
   "outputs": [],
   "source": [
    "predictions = []\n",
    "for i in range(len(df_test)):\n",
    "    text = remove_html_tags(df_test['problem'].loc[i])\n",
    "    prediction = model3.predict(text)[0][0]\n",
    "    prediction = prediction.replace(\"__label__\",'')\n",
    "    predictions.append(prediction)"
   ]
  },
  {
   "cell_type": "code",
   "execution_count": 73,
   "id": "6b8007c2",
   "metadata": {},
   "outputs": [
    {
     "data": {
      "text/plain": [
       "['19',\n",
       " '8',\n",
       " '8',\n",
       " '7',\n",
       " '5',\n",
       " '23',\n",
       " '3',\n",
       " '4',\n",
       " '24',\n",
       " '8',\n",
       " '4',\n",
       " '4',\n",
       " '2',\n",
       " '9',\n",
       " '11',\n",
       " '23',\n",
       " '2',\n",
       " '2',\n",
       " '4',\n",
       " '16',\n",
       " '16',\n",
       " '22',\n",
       " '9',\n",
       " '17',\n",
       " '10',\n",
       " '9',\n",
       " '16',\n",
       " '12',\n",
       " '13',\n",
       " '18',\n",
       " '14',\n",
       " '7',\n",
       " '7',\n",
       " '22',\n",
       " '11',\n",
       " '21',\n",
       " '19',\n",
       " '8',\n",
       " '18',\n",
       " '1',\n",
       " '17',\n",
       " '17',\n",
       " '15',\n",
       " '3',\n",
       " '12',\n",
       " '20',\n",
       " '0',\n",
       " '2',\n",
       " '0',\n",
       " '8',\n",
       " '23',\n",
       " '11',\n",
       " '24',\n",
       " '24',\n",
       " '15',\n",
       " '17',\n",
       " '20',\n",
       " '1',\n",
       " '13',\n",
       " '16',\n",
       " '21',\n",
       " '16',\n",
       " '9',\n",
       " '14',\n",
       " '1',\n",
       " '6',\n",
       " '13',\n",
       " '17',\n",
       " '18',\n",
       " '5',\n",
       " '4',\n",
       " '22',\n",
       " '8',\n",
       " '13',\n",
       " '9',\n",
       " '5',\n",
       " '0',\n",
       " '14',\n",
       " '1',\n",
       " '13',\n",
       " '7',\n",
       " '15',\n",
       " '16',\n",
       " '24',\n",
       " '11',\n",
       " '15',\n",
       " '6',\n",
       " '17',\n",
       " '9',\n",
       " '12',\n",
       " '8',\n",
       " '22',\n",
       " '24',\n",
       " '3',\n",
       " '14',\n",
       " '11',\n",
       " '20',\n",
       " '5',\n",
       " '23',\n",
       " '15',\n",
       " '6',\n",
       " '17',\n",
       " '14',\n",
       " '4',\n",
       " '3',\n",
       " '20',\n",
       " '5',\n",
       " '6',\n",
       " '3',\n",
       " '12',\n",
       " '0',\n",
       " '0',\n",
       " '9',\n",
       " '7',\n",
       " '12',\n",
       " '21',\n",
       " '23',\n",
       " '7',\n",
       " '19',\n",
       " '7',\n",
       " '8',\n",
       " '6',\n",
       " '20',\n",
       " '22',\n",
       " '2']"
      ]
     },
     "execution_count": 73,
     "metadata": {},
     "output_type": "execute_result"
    }
   ],
   "source": [
    "predictions"
   ]
  },
  {
   "cell_type": "code",
   "execution_count": 74,
   "id": "3cc3e3fa",
   "metadata": {},
   "outputs": [],
   "source": [
    "df_test['category'] = predictions"
   ]
  },
  {
   "cell_type": "code",
   "execution_count": 75,
   "id": "ec3581bd",
   "metadata": {},
   "outputs": [
    {
     "data": {
      "text/html": [
       "<div>\n",
       "<style scoped>\n",
       "    .dataframe tbody tr th:only-of-type {\n",
       "        vertical-align: middle;\n",
       "    }\n",
       "\n",
       "    .dataframe tbody tr th {\n",
       "        vertical-align: top;\n",
       "    }\n",
       "\n",
       "    .dataframe thead th {\n",
       "        text-align: right;\n",
       "    }\n",
       "</style>\n",
       "<table border=\"1\" class=\"dataframe\">\n",
       "  <thead>\n",
       "    <tr style=\"text-align: right;\">\n",
       "      <th></th>\n",
       "      <th>problem</th>\n",
       "      <th>category</th>\n",
       "    </tr>\n",
       "  </thead>\n",
       "  <tbody>\n",
       "    <tr>\n",
       "      <th>0</th>\n",
       "      <td>&lt;p&gt;For graduating from middle school,  Wayne r...</td>\n",
       "      <td>19</td>\n",
       "    </tr>\n",
       "    <tr>\n",
       "      <th>1</th>\n",
       "      <td>&lt;p&gt;Mrs. O'Hare bought `18` packs of pencils to...</td>\n",
       "      <td>8</td>\n",
       "    </tr>\n",
       "    <tr>\n",
       "      <th>2</th>\n",
       "      <td>&lt;p&gt;Annalise bought `p` pens last week and `15`...</td>\n",
       "      <td>8</td>\n",
       "    </tr>\n",
       "    <tr>\n",
       "      <th>3</th>\n",
       "      <td>&lt;p&gt;Felicia is decorating cupcakes for a party....</td>\n",
       "      <td>7</td>\n",
       "    </tr>\n",
       "    <tr>\n",
       "      <th>4</th>\n",
       "      <td>&lt;p&gt;Write an expression to match the phrase:&lt;/p...</td>\n",
       "      <td>5</td>\n",
       "    </tr>\n",
       "    <tr>\n",
       "      <th>...</th>\n",
       "      <td>...</td>\n",
       "      <td>...</td>\n",
       "    </tr>\n",
       "    <tr>\n",
       "      <th>120</th>\n",
       "      <td>&lt;p&gt;Veronica has `d` more dresses than Larisa d...</td>\n",
       "      <td>8</td>\n",
       "    </tr>\n",
       "    <tr>\n",
       "      <th>121</th>\n",
       "      <td>&lt;p&gt;Write an equation to match the phrase:&lt;/p&gt;&lt;...</td>\n",
       "      <td>6</td>\n",
       "    </tr>\n",
       "    <tr>\n",
       "      <th>122</th>\n",
       "      <td>&lt;p&gt;Follow the directions below to create an eq...</td>\n",
       "      <td>20</td>\n",
       "    </tr>\n",
       "    <tr>\n",
       "      <th>123</th>\n",
       "      <td>&lt;p&gt;What is `7.5 ÷ 10`?&lt;/p&gt;&lt;selectivedisplay da...</td>\n",
       "      <td>22</td>\n",
       "    </tr>\n",
       "    <tr>\n",
       "      <th>124</th>\n",
       "      <td>&lt;p&gt;Write an expression to match the phrase:&lt;br...</td>\n",
       "      <td>2</td>\n",
       "    </tr>\n",
       "  </tbody>\n",
       "</table>\n",
       "<p>125 rows × 2 columns</p>\n",
       "</div>"
      ],
      "text/plain": [
       "                                               problem category\n",
       "0    <p>For graduating from middle school,  Wayne r...       19\n",
       "1    <p>Mrs. O'Hare bought `18` packs of pencils to...        8\n",
       "2    <p>Annalise bought `p` pens last week and `15`...        8\n",
       "3    <p>Felicia is decorating cupcakes for a party....        7\n",
       "4    <p>Write an expression to match the phrase:</p...        5\n",
       "..                                                 ...      ...\n",
       "120  <p>Veronica has `d` more dresses than Larisa d...        8\n",
       "121  <p>Write an equation to match the phrase:</p><...        6\n",
       "122  <p>Follow the directions below to create an eq...       20\n",
       "123  <p>What is `7.5 ÷ 10`?</p><selectivedisplay da...       22\n",
       "124  <p>Write an expression to match the phrase:<br...        2\n",
       "\n",
       "[125 rows x 2 columns]"
      ]
     },
     "execution_count": 75,
     "metadata": {},
     "output_type": "execute_result"
    }
   ],
   "source": [
    "df_test"
   ]
  },
  {
   "cell_type": "code",
   "execution_count": 76,
   "id": "32b98a6c",
   "metadata": {},
   "outputs": [],
   "source": [
    "submission = 'submission.csv'\n",
    "df_test.to_csv(submission,index = False)"
   ]
  }
 ],
 "metadata": {
  "kernelspec": {
   "display_name": "Python 3 (ipykernel)",
   "language": "python",
   "name": "python3"
  },
  "language_info": {
   "codemirror_mode": {
    "name": "ipython",
    "version": 3
   },
   "file_extension": ".py",
   "mimetype": "text/x-python",
   "name": "python",
   "nbconvert_exporter": "python",
   "pygments_lexer": "ipython3",
   "version": "3.9.12"
  }
 },
 "nbformat": 4,
 "nbformat_minor": 5
}
